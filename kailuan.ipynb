{
 "cells": [
  {
   "cell_type": "code",
   "execution_count": 10,
   "metadata": {},
   "outputs": [],
   "source": [
    "import pandas as pd\n",
    "import numpy as np\n",
    "\n",
    "# 假设 time_series 是已经加载的 DataFrame\n",
    "# 这里用示例数据来模拟真实数据\n",
    "# data = {\n",
    "#     'Timestamp': ['2021-07-02 16:35:25', '2021-07-02 16:36:25', '2021-07-02 16:37:25', '2021-07-02 16:38:25', '2021-07-02 16:39:25'],\n",
    "#     'Sleepstate': [4, 4, 4, 4, 4],\n",
    "#     'Breath': [16, 16, 16, 16, 16],\n",
    "#     'Heartrate': [78, 76, 74, 74, 73],\n",
    "#     'Movement': [2, 0, 0, 0, 1],\n",
    "#     'Source': [1, 1, 1, 1, 1]\n",
    "# }\n",
    "kailuan_data = pd.read_csv(\"./combined_sheets.csv\")\n",
    "# time_series = pd.DataFrame(kailuan_data)\n",
    "\n",
    "# 将数据按照 Source 分组\n",
    "grouped = kailuan_data.groupby('Source')\n",
    "\n",
    "# 提取特征列\n",
    "features = ['Sleepstate', 'Breath', 'Heartrate', 'Movement']"
   ]
  },
  {
   "cell_type": "code",
   "execution_count": 13,
   "metadata": {},
   "outputs": [
    {
     "data": {
      "text/plain": [
       "(129, 1075, 4)"
      ]
     },
     "execution_count": 13,
     "metadata": {},
     "output_type": "execute_result"
    }
   ],
   "source": [
    "# 重新计算每个样例的时间步数（考虑到了数据过滤）\n",
    "filtered_time_steps_per_source = kailuan_data.groupby('Source').size()\n",
    "\n",
    "# 重新筛选出有效的 Source（确保每个分组至少有一个数据点）\n",
    "valid_sources = filtered_time_steps_per_source[filtered_time_steps_per_source > 500].index\n",
    "\n",
    "# 重新获取有效的数据\n",
    "valid_filtered_time_series = kailuan_data[kailuan_data['Source'].isin(valid_sources)]\n",
    "\n",
    "# 分组\n",
    "valid_filtered_grouped = valid_filtered_time_series.groupby('Source')\n",
    "\n",
    "# 计算平均时间步数（此时应该没有 NaN 值）\n",
    "average_time_steps = int(valid_filtered_grouped.size().mean())\n",
    "\n",
    "# 初始化新的三维数组（考虑到了有效的样例数）\n",
    "valid_sources_count = len(valid_sources)\n",
    "three_dim_array_valid = np.zeros((valid_sources_count, average_time_steps, len(features)))\n",
    "\n",
    "# 填充新的三维数组\n",
    "for i, (source, group) in enumerate(valid_filtered_grouped):\n",
    "    data = group[features].values\n",
    "    current_steps = data.shape[0]\n",
    "\n",
    "    if current_steps < average_time_steps:\n",
    "        fill_values = {\n",
    "            'Breath': group['Breath'].mean(),\n",
    "            'Heartrate': group['Heartrate'].mean(),\n",
    "            'Sleepstate': group['Sleepstate'].median(),\n",
    "            'Movement': 0\n",
    "        }\n",
    "        fill_array = np.array([[fill_values[feature] for feature in features]] * (average_time_steps - current_steps))\n",
    "        full_data = np.vstack((data, fill_array))\n",
    "    else:\n",
    "        full_data = data[:average_time_steps, :]\n",
    "\n",
    "    three_dim_array_valid[i, :, :] = full_data\n",
    "\n",
    "three_dim_array_valid.shape  # 显示新的三维数组的形状"
   ]
  },
  {
   "cell_type": "code",
   "execution_count": null,
   "metadata": {},
   "outputs": [],
   "source": []
  }
 ],
 "metadata": {
  "kernelspec": {
   "display_name": "d2l",
   "language": "python",
   "name": "python3"
  },
  "language_info": {
   "codemirror_mode": {
    "name": "ipython",
    "version": 3
   },
   "file_extension": ".py",
   "mimetype": "text/x-python",
   "name": "python",
   "nbconvert_exporter": "python",
   "pygments_lexer": "ipython3",
   "version": "3.8.13"
  }
 },
 "nbformat": 4,
 "nbformat_minor": 2
}
